2020-09-25 10:17:11.234445: I tensorflow/stream_executor/platform/default/dso_loader.cc:48] Successfully opened dynamic library libcudart.so.10.1
2020-09-25 10:17:12.758483: I tensorflow/stream_executor/platform/default/dso_loader.cc:48] Successfully opened dynamic library libcuda.so.1
2020-09-25 10:17:12.827809: I tensorflow/stream_executor/cuda/cuda_gpu_executor.cc:982] successful NUMA node read from SysFS had negative value (-1), but there must be at least one NUMA node, so returning NUMA node zero
2020-09-25 10:17:12.828515: I tensorflow/core/common_runtime/gpu/gpu_device.cc:1716] Found device 0 with properties: 
pciBusID: 0000:00:04.0 name: Tesla T4 computeCapability: 7.5
coreClock: 1.59GHz coreCount: 40 deviceMemorySize: 14.73GiB deviceMemoryBandwidth: 298.08GiB/s
2020-09-25 10:17:12.828567: I tensorflow/stream_executor/platform/default/dso_loader.cc:48] Successfully opened dynamic library libcudart.so.10.1
2020-09-25 10:17:13.044995: I tensorflow/stream_executor/platform/default/dso_loader.cc:48] Successfully opened dynamic library libcublas.so.10
2020-09-25 10:17:13.177943: I tensorflow/stream_executor/platform/default/dso_loader.cc:48] Successfully opened dynamic library libcufft.so.10
2020-09-25 10:17:13.197497: I tensorflow/stream_executor/platform/default/dso_loader.cc:48] Successfully opened dynamic library libcurand.so.10
2020-09-25 10:17:13.483040: I tensorflow/stream_executor/platform/default/dso_loader.cc:48] Successfully opened dynamic library libcusolver.so.10
2020-09-25 10:17:13.499878: I tensorflow/stream_executor/platform/default/dso_loader.cc:48] Successfully opened dynamic library libcusparse.so.10
2020-09-25 10:17:14.031495: I tensorflow/stream_executor/platform/default/dso_loader.cc:48] Successfully opened dynamic library libcudnn.so.7
2020-09-25 10:17:14.031708: I tensorflow/stream_executor/cuda/cuda_gpu_executor.cc:982] successful NUMA node read from SysFS had negative value (-1), but there must be at least one NUMA node, so returning NUMA node zero
2020-09-25 10:17:14.032480: I tensorflow/stream_executor/cuda/cuda_gpu_executor.cc:982] successful NUMA node read from SysFS had negative value (-1), but there must be at least one NUMA node, so returning NUMA node zero
2020-09-25 10:17:14.033062: I tensorflow/core/common_runtime/gpu/gpu_device.cc:1858] Adding visible gpu devices: 0
2020-09-25 10:17:14.080234: I tensorflow/core/platform/profile_utils/cpu_utils.cc:104] CPU Frequency: 2200000000 Hz
2020-09-25 10:17:14.080493: I tensorflow/compiler/xla/service/service.cc:168] XLA service 0x1a76a00 initialized for platform Host (this does not guarantee that XLA will be used). Devices:
2020-09-25 10:17:14.080533: I tensorflow/compiler/xla/service/service.cc:176]   StreamExecutor device (0): Host, Default Version
2020-09-25 10:17:14.230780: I tensorflow/stream_executor/cuda/cuda_gpu_executor.cc:982] successful NUMA node read from SysFS had negative value (-1), but there must be at least one NUMA node, so returning NUMA node zero
2020-09-25 10:17:14.231780: I tensorflow/compiler/xla/service/service.cc:168] XLA service 0x1a76f40 initialized for platform CUDA (this does not guarantee that XLA will be used). Devices:
2020-09-25 10:17:14.231818: I tensorflow/compiler/xla/service/service.cc:176]   StreamExecutor device (0): Tesla T4, Compute Capability 7.5
2020-09-25 10:17:14.232977: I tensorflow/stream_executor/cuda/cuda_gpu_executor.cc:982] successful NUMA node read from SysFS had negative value (-1), but there must be at least one NUMA node, so returning NUMA node zero
2020-09-25 10:17:14.233602: I tensorflow/core/common_runtime/gpu/gpu_device.cc:1716] Found device 0 with properties: 
pciBusID: 0000:00:04.0 name: Tesla T4 computeCapability: 7.5
coreClock: 1.59GHz coreCount: 40 deviceMemorySize: 14.73GiB deviceMemoryBandwidth: 298.08GiB/s
2020-09-25 10:17:14.233656: I tensorflow/stream_executor/platform/default/dso_loader.cc:48] Successfully opened dynamic library libcudart.so.10.1
2020-09-25 10:17:14.233703: I tensorflow/stream_executor/platform/default/dso_loader.cc:48] Successfully opened dynamic library libcublas.so.10
2020-09-25 10:17:14.233728: I tensorflow/stream_executor/platform/default/dso_loader.cc:48] Successfully opened dynamic library libcufft.so.10
2020-09-25 10:17:14.233749: I tensorflow/stream_executor/platform/default/dso_loader.cc:48] Successfully opened dynamic library libcurand.so.10
2020-09-25 10:17:14.233768: I tensorflow/stream_executor/platform/default/dso_loader.cc:48] Successfully opened dynamic library libcusolver.so.10
2020-09-25 10:17:14.233790: I tensorflow/stream_executor/platform/default/dso_loader.cc:48] Successfully opened dynamic library libcusparse.so.10
2020-09-25 10:17:14.233813: I tensorflow/stream_executor/platform/default/dso_loader.cc:48] Successfully opened dynamic library libcudnn.so.7
2020-09-25 10:17:14.233887: I tensorflow/stream_executor/cuda/cuda_gpu_executor.cc:982] successful NUMA node read from SysFS had negative value (-1), but there must be at least one NUMA node, so returning NUMA node zero
2020-09-25 10:17:14.234506: I tensorflow/stream_executor/cuda/cuda_gpu_executor.cc:982] successful NUMA node read from SysFS had negative value (-1), but there must be at least one NUMA node, so returning NUMA node zero
2020-09-25 10:17:14.235047: I tensorflow/core/common_runtime/gpu/gpu_device.cc:1858] Adding visible gpu devices: 0
2020-09-25 10:17:14.238551: I tensorflow/stream_executor/platform/default/dso_loader.cc:48] Successfully opened dynamic library libcudart.so.10.1
2020-09-25 10:17:18.082496: I tensorflow/core/common_runtime/gpu/gpu_device.cc:1257] Device interconnect StreamExecutor with strength 1 edge matrix:
2020-09-25 10:17:18.082577: I tensorflow/core/common_runtime/gpu/gpu_device.cc:1263]      0 
2020-09-25 10:17:18.082594: I tensorflow/core/common_runtime/gpu/gpu_device.cc:1276] 0:   N 
2020-09-25 10:17:18.086007: I tensorflow/stream_executor/cuda/cuda_gpu_executor.cc:982] successful NUMA node read from SysFS had negative value (-1), but there must be at least one NUMA node, so returning NUMA node zero
2020-09-25 10:17:18.086772: I tensorflow/stream_executor/cuda/cuda_gpu_executor.cc:982] successful NUMA node read from SysFS had negative value (-1), but there must be at least one NUMA node, so returning NUMA node zero
2020-09-25 10:17:18.087388: W tensorflow/core/common_runtime/gpu/gpu_bfc_allocator.cc:39] Overriding allow_growth setting because the TF_FORCE_GPU_ALLOW_GROWTH environment variable is set. Original config value was 0.
2020-09-25 10:17:18.087451: I tensorflow/core/common_runtime/gpu/gpu_device.cc:1402] Created TensorFlow device (/job:localhost/replica:0/task:0/device:GPU:0 with 13962 MB memory) -> physical GPU (device: 0, name: Tesla T4, pci bus id: 0000:00:04.0, compute capability: 7.5)
2020-09-25 10:17:18.535142: I tensorflow/core/profiler/lib/profiler_session.cc:164] Profiler session started.
2020-09-25 10:17:18.538425: I tensorflow/core/profiler/internal/gpu/cupti_tracer.cc:1391] Profiler found 1 GPUs
2020-09-25 10:17:18.572658: I tensorflow/stream_executor/platform/default/dso_loader.cc:48] Successfully opened dynamic library libcupti.so.10.1
2020-09-25 10:17:18.791649: I tensorflow/core/profiler/internal/gpu/cupti_tracer.cc:1513] CUPTI activity buffer flushed
Epoch 1/200
2020-09-25 10:17:19.365470: I tensorflow/stream_executor/platform/default/dso_loader.cc:48] Successfully opened dynamic library libcublas.so.10
2020-09-25 10:17:21.570809: I tensorflow/stream_executor/platform/default/dso_loader.cc:48] Successfully opened dynamic library libcudnn.so.7
      1/Unknown - 0s 822us/step - loss: 1.2032 - categorical_accuracy: 0.63282020-09-25 10:17:28.477534: I tensorflow/core/profiler/lib/profiler_session.cc:164] Profiler session started.
WARNING:tensorflow:From /usr/local/lib/python3.6/dist-packages/tensorflow/python/ops/summary_ops_v2.py:1277: stop (from tensorflow.python.eager.profiler) is deprecated and will be removed after 2020-07-01.
Instructions for updating:
use `tf.profiler.experimental.stop` instead.
2020-09-25 10:17:28.567472: I tensorflow/core/profiler/internal/gpu/cupti_tracer.cc:1513] CUPTI activity buffer flushed
2020-09-25 10:17:28.572997: I tensorflow/core/profiler/internal/gpu/device_tracer.cc:223]  GpuTracer has collected 87 callback api events and 87 activity events. 
2020-09-25 10:17:28.595652: I tensorflow/core/profiler/rpc/client/save_profile.cc:176] Creating directory: logs/ilcd-1601029038.534866/train/plugins/profile/2020_09_25_10_17_28
2020-09-25 10:17:28.607115: I tensorflow/core/profiler/rpc/client/save_profile.cc:182] Dumped gzipped tool data for trace.json.gz to logs/ilcd-1601029038.534866/train/plugins/profile/2020_09_25_10_17_28/ae083539c3fd.trace.json.gz
2020-09-25 10:17:28.621501: I tensorflow/core/profiler/rpc/client/save_profile.cc:176] Creating directory: logs/ilcd-1601029038.534866/train/plugins/profile/2020_09_25_10_17_28
2020-09-25 10:17:28.624163: I tensorflow/core/profiler/rpc/client/save_profile.cc:182] Dumped gzipped tool data for memory_profile.json.gz to logs/ilcd-1601029038.534866/train/plugins/profile/2020_09_25_10_17_28/ae083539c3fd.memory_profile.json.gz
2020-09-25 10:17:28.625669: I tensorflow/python/profiler/internal/profiler_wrapper.cc:111] Creating directory: logs/ilcd-1601029038.534866/train/plugins/profile/2020_09_25_10_17_28Dumped tool data for xplane.pb to logs/ilcd-1601029038.534866/train/plugins/profile/2020_09_25_10_17_28/ae083539c3fd.xplane.pb
Dumped tool data for overview_page.pb to logs/ilcd-1601029038.534866/train/plugins/profile/2020_09_25_10_17_28/ae083539c3fd.overview_page.pb
Dumped tool data for input_pipeline.pb to logs/ilcd-1601029038.534866/train/plugins/profile/2020_09_25_10_17_28/ae083539c3fd.input_pipeline.pb
Dumped tool data for tensorflow_stats.pb to logs/ilcd-1601029038.534866/train/plugins/profile/2020_09_25_10_17_28/ae083539c3fd.tensorflow_stats.pb
Dumped tool data for kernel_stats.pb to logs/ilcd-1601029038.534866/train/plugins/profile/2020_09_25_10_17_28/ae083539c3fd.kernel_stats.pb

      2/Unknown - 0s 76ms/step - loss: 1.1984 - categorical_accuracy: 0.6133 WARNING:tensorflow:Callbacks method `on_train_batch_end` is slow compared to the batch time (batch time: 0.0451s vs `on_train_batch_end` time: 0.1063s). Check your callbacks.
55/55 [==============================] - 49s 899ms/step - loss: 1.8323 - categorical_accuracy: 0.1982 - val_loss: 1.6912 - val_categorical_accuracy: 0.2093
Epoch 2/200
55/55 [==============================] - 30s 544ms/step - loss: 1.7063 - categorical_accuracy: 0.2031 - val_loss: 1.6007 - val_categorical_accuracy: 0.2170
Epoch 3/200
55/55 [==============================] - 30s 549ms/step - loss: 1.6231 - categorical_accuracy: 0.2128 - val_loss: 1.5345 - val_categorical_accuracy: 0.2380
Epoch 4/200
55/55 [==============================] - 30s 545ms/step - loss: 1.5589 - categorical_accuracy: 0.2280 - val_loss: 1.4827 - val_categorical_accuracy: 0.2553
Epoch 5/200
55/55 [==============================] - 30s 544ms/step - loss: 1.5075 - categorical_accuracy: 0.2437 - val_loss: 1.4407 - val_categorical_accuracy: 0.2687
Epoch 6/200
55/55 [==============================] - 30s 548ms/step - loss: 1.4653 - categorical_accuracy: 0.2567 - val_loss: 1.4060 - val_categorical_accuracy: 0.2810
Epoch 7/200
55/55 [==============================] - 30s 550ms/step - loss: 1.4303 - categorical_accuracy: 0.2671 - val_loss: 1.3767 - val_categorical_accuracy: 0.2920
Epoch 8/200
55/55 [==============================] - 30s 552ms/step - loss: 1.4006 - categorical_accuracy: 0.2777 - val_loss: 1.3516 - val_categorical_accuracy: 0.2993
Epoch 9/200
55/55 [==============================] - 30s 554ms/step - loss: 1.3752 - categorical_accuracy: 0.2854 - val_loss: 1.3298 - val_categorical_accuracy: 0.3050
Epoch 10/200
55/55 [==============================] - 30s 548ms/step - loss: 1.3531 - categorical_accuracy: 0.2932 - val_loss: 1.3108 - val_categorical_accuracy: 0.3153
Epoch 11/200
55/55 [==============================] - 31s 565ms/step - loss: 1.3337 - categorical_accuracy: 0.3012 - val_loss: 1.2939 - val_categorical_accuracy: 0.3203
Epoch 12/200
55/55 [==============================] - 30s 548ms/step - loss: 1.3166 - categorical_accuracy: 0.3075 - val_loss: 1.2789 - val_categorical_accuracy: 0.3257
Epoch 13/200
55/55 [==============================] - 30s 550ms/step - loss: 1.3012 - categorical_accuracy: 0.3136 - val_loss: 1.2653 - val_categorical_accuracy: 0.3330
Epoch 14/200
55/55 [==============================] - 30s 547ms/step - loss: 1.2873 - categorical_accuracy: 0.3196 - val_loss: 1.2530 - val_categorical_accuracy: 0.3353
Epoch 15/200
55/55 [==============================] - 30s 548ms/step - loss: 1.2748 - categorical_accuracy: 0.3241 - val_loss: 1.2418 - val_categorical_accuracy: 0.3387
Epoch 16/200
55/55 [==============================] - 30s 548ms/step - loss: 1.2633 - categorical_accuracy: 0.3295 - val_loss: 1.2315 - val_categorical_accuracy: 0.3440
Epoch 17/200
55/55 [==============================] - 30s 551ms/step - loss: 1.2528 - categorical_accuracy: 0.3329 - val_loss: 1.2221 - val_categorical_accuracy: 0.3473
Epoch 18/200
55/55 [==============================] - 30s 549ms/step - loss: 1.2431 - categorical_accuracy: 0.3365 - val_loss: 1.2133 - val_categorical_accuracy: 0.3513
Epoch 19/200
55/55 [==============================] - 30s 552ms/step - loss: 1.2341 - categorical_accuracy: 0.3403 - val_loss: 1.2052 - val_categorical_accuracy: 0.3550
Epoch 20/200
55/55 [==============================] - 30s 544ms/step - loss: 1.2257 - categorical_accuracy: 0.3429 - val_loss: 1.1976 - val_categorical_accuracy: 0.3583
Epoch 21/200
55/55 [==============================] - 31s 561ms/step - loss: 1.2179 - categorical_accuracy: 0.3448 - val_loss: 1.1905 - val_categorical_accuracy: 0.3620
Epoch 22/200
55/55 [==============================] - 30s 544ms/step - loss: 1.2106 - categorical_accuracy: 0.3476 - val_loss: 1.1839 - val_categorical_accuracy: 0.3657
Epoch 23/200
55/55 [==============================] - 30s 547ms/step - loss: 1.2037 - categorical_accuracy: 0.3511 - val_loss: 1.1777 - val_categorical_accuracy: 0.3690
Epoch 24/200
55/55 [==============================] - 30s 545ms/step - loss: 1.1973 - categorical_accuracy: 0.3530 - val_loss: 1.1718 - val_categorical_accuracy: 0.3747
Epoch 25/200
55/55 [==============================] - 30s 546ms/step - loss: 1.1912 - categorical_accuracy: 0.3556 - val_loss: 1.1663 - val_categorical_accuracy: 0.3790
Epoch 26/200
55/55 [==============================] - 30s 545ms/step - loss: 1.1854 - categorical_accuracy: 0.3579 - val_loss: 1.1610 - val_categorical_accuracy: 0.3790
Epoch 27/200
55/55 [==============================] - 30s 547ms/step - loss: 1.1800 - categorical_accuracy: 0.3597 - val_loss: 1.1561 - val_categorical_accuracy: 0.3827
Epoch 28/200
55/55 [==============================] - 30s 545ms/step - loss: 1.1748 - categorical_accuracy: 0.3614 - val_loss: 1.1513 - val_categorical_accuracy: 0.3830
Epoch 29/200
55/55 [==============================] - 30s 550ms/step - loss: 1.1699 - categorical_accuracy: 0.3638 - val_loss: 1.1468 - val_categorical_accuracy: 0.3857
Epoch 30/200
55/55 [==============================] - 30s 548ms/step - loss: 1.1652 - categorical_accuracy: 0.3661 - val_loss: 1.1426 - val_categorical_accuracy: 0.3870
Epoch 31/200
55/55 [==============================] - 30s 552ms/step - loss: 1.1607 - categorical_accuracy: 0.3685 - val_loss: 1.1385 - val_categorical_accuracy: 0.3897
Epoch 32/200
55/55 [==============================] - 30s 544ms/step - loss: 1.1564 - categorical_accuracy: 0.3702 - val_loss: 1.1346 - val_categorical_accuracy: 0.3940
Epoch 33/200
55/55 [==============================] - 30s 544ms/step - loss: 1.1523 - categorical_accuracy: 0.3710 - val_loss: 1.1309 - val_categorical_accuracy: 0.3950
Epoch 34/200
55/55 [==============================] - 30s 546ms/step - loss: 1.1484 - categorical_accuracy: 0.3733 - val_loss: 1.1273 - val_categorical_accuracy: 0.3973
Epoch 35/200
55/55 [==============================] - 30s 549ms/step - loss: 1.1447 - categorical_accuracy: 0.3749 - val_loss: 1.1239 - val_categorical_accuracy: 0.4000
Epoch 36/200
55/55 [==============================] - 30s 548ms/step - loss: 1.1411 - categorical_accuracy: 0.3763 - val_loss: 1.1206 - val_categorical_accuracy: 0.4000
Epoch 37/200
55/55 [==============================] - 30s 548ms/step - loss: 1.1376 - categorical_accuracy: 0.3782 - val_loss: 1.1175 - val_categorical_accuracy: 0.4003
Epoch 38/200
55/55 [==============================] - 30s 545ms/step - loss: 1.1343 - categorical_accuracy: 0.3797 - val_loss: 1.1145 - val_categorical_accuracy: 0.4003
Epoch 39/200
55/55 [==============================] - 31s 557ms/step - loss: 1.1311 - categorical_accuracy: 0.3812 - val_loss: 1.1116 - val_categorical_accuracy: 0.4010
Epoch 40/200
55/55 [==============================] - 30s 550ms/step - loss: 1.1281 - categorical_accuracy: 0.3828 - val_loss: 1.1088 - val_categorical_accuracy: 0.4007
Epoch 41/200
55/55 [==============================] - 31s 562ms/step - loss: 1.1251 - categorical_accuracy: 0.3840 - val_loss: 1.1061 - val_categorical_accuracy: 0.4030
Epoch 42/200
55/55 [==============================] - 30s 552ms/step - loss: 1.1223 - categorical_accuracy: 0.3851 - val_loss: 1.1035 - val_categorical_accuracy: 0.4067
Epoch 43/200
55/55 [==============================] - 30s 548ms/step - loss: 1.1195 - categorical_accuracy: 0.3865 - val_loss: 1.1010 - val_categorical_accuracy: 0.4090
Epoch 44/200
55/55 [==============================] - 30s 547ms/step - loss: 1.1169 - categorical_accuracy: 0.3877 - val_loss: 1.0986 - val_categorical_accuracy: 0.4100
Epoch 45/200
55/55 [==============================] - 30s 546ms/step - loss: 1.1143 - categorical_accuracy: 0.3887 - val_loss: 1.0963 - val_categorical_accuracy: 0.4103
Epoch 46/200
55/55 [==============================] - 30s 545ms/step - loss: 1.1119 - categorical_accuracy: 0.3906 - val_loss: 1.0940 - val_categorical_accuracy: 0.4110
Epoch 47/200
55/55 [==============================] - 30s 548ms/step - loss: 1.1095 - categorical_accuracy: 0.3915 - val_loss: 1.0918 - val_categorical_accuracy: 0.4110
Epoch 48/200
55/55 [==============================] - 30s 549ms/step - loss: 1.1072 - categorical_accuracy: 0.3920 - val_loss: 1.0898 - val_categorical_accuracy: 0.4123
Epoch 49/200
55/55 [==============================] - 30s 550ms/step - loss: 1.1050 - categorical_accuracy: 0.3927 - val_loss: 1.0877 - val_categorical_accuracy: 0.4130
Epoch 50/200
55/55 [==============================] - 30s 549ms/step - loss: 1.1028 - categorical_accuracy: 0.3935 - val_loss: 1.0858 - val_categorical_accuracy: 0.4133
Epoch 51/200
55/55 [==============================] - 31s 559ms/step - loss: 1.1007 - categorical_accuracy: 0.3944 - val_loss: 1.0839 - val_categorical_accuracy: 0.4147
Epoch 52/200
55/55 [==============================] - 30s 548ms/step - loss: 1.0987 - categorical_accuracy: 0.3956 - val_loss: 1.0820 - val_categorical_accuracy: 0.4157
Epoch 53/200
55/55 [==============================] - 30s 545ms/step - loss: 1.0968 - categorical_accuracy: 0.3960 - val_loss: 1.0803 - val_categorical_accuracy: 0.4170
Epoch 54/200
55/55 [==============================] - 30s 543ms/step - loss: 1.0949 - categorical_accuracy: 0.3970 - val_loss: 1.0785 - val_categorical_accuracy: 0.4187
Epoch 55/200
55/55 [==============================] - 30s 544ms/step - loss: 1.0931 - categorical_accuracy: 0.3976 - val_loss: 1.0769 - val_categorical_accuracy: 0.4190
Epoch 56/200
55/55 [==============================] - 30s 543ms/step - loss: 1.0913 - categorical_accuracy: 0.3982 - val_loss: 1.0753 - val_categorical_accuracy: 0.4200
Epoch 57/200
55/55 [==============================] - 30s 548ms/step - loss: 1.0896 - categorical_accuracy: 0.3982 - val_loss: 1.0737 - val_categorical_accuracy: 0.4213
Epoch 58/200
55/55 [==============================] - 30s 545ms/step - loss: 1.0879 - categorical_accuracy: 0.3990 - val_loss: 1.0722 - val_categorical_accuracy: 0.4217
Epoch 59/200
55/55 [==============================] - 30s 544ms/step - loss: 1.0863 - categorical_accuracy: 0.3998 - val_loss: 1.0707 - val_categorical_accuracy: 0.4227
Epoch 60/200
55/55 [==============================] - 30s 543ms/step - loss: 1.0848 - categorical_accuracy: 0.4006 - val_loss: 1.0693 - val_categorical_accuracy: 0.4240
Epoch 61/200
55/55 [==============================] - 31s 559ms/step - loss: 1.0833 - categorical_accuracy: 0.4018 - val_loss: 1.0679 - val_categorical_accuracy: 0.4230
Epoch 62/200
55/55 [==============================] - 30s 545ms/step - loss: 1.0818 - categorical_accuracy: 0.4024 - val_loss: 1.0666 - val_categorical_accuracy: 0.4227
Epoch 63/200
55/55 [==============================] - 30s 540ms/step - loss: 1.0804 - categorical_accuracy: 0.4028 - val_loss: 1.0653 - val_categorical_accuracy: 0.4220
Epoch 64/200
55/55 [==============================] - 30s 541ms/step - loss: 1.0791 - categorical_accuracy: 0.4036 - val_loss: 1.0641 - val_categorical_accuracy: 0.4220
Epoch 65/200
55/55 [==============================] - 30s 543ms/step - loss: 1.0777 - categorical_accuracy: 0.4041 - val_loss: 1.0628 - val_categorical_accuracy: 0.4223
Epoch 66/200
55/55 [==============================] - 30s 545ms/step - loss: 1.0765 - categorical_accuracy: 0.4051 - val_loss: 1.0617 - val_categorical_accuracy: 0.4230
Epoch 67/200
55/55 [==============================] - 30s 540ms/step - loss: 1.0752 - categorical_accuracy: 0.4057 - val_loss: 1.0605 - val_categorical_accuracy: 0.4237
Epoch 68/200
55/55 [==============================] - 30s 539ms/step - loss: 1.0740 - categorical_accuracy: 0.4061 - val_loss: 1.0594 - val_categorical_accuracy: 0.4230
Epoch 69/200
55/55 [==============================] - 30s 538ms/step - loss: 1.0729 - categorical_accuracy: 0.4064 - val_loss: 1.0584 - val_categorical_accuracy: 0.4230
Epoch 70/200
55/55 [==============================] - 29s 525ms/step - loss: 1.0718 - categorical_accuracy: 0.4069 - val_loss: 1.0573 - val_categorical_accuracy: 0.4223
Epoch 71/200
55/55 [==============================] - 29s 523ms/step - loss: 1.0707 - categorical_accuracy: 0.4077 - val_loss: 1.0563 - val_categorical_accuracy: 0.4230
Epoch 72/200
55/55 [==============================] - 29s 534ms/step - loss: 1.0697 - categorical_accuracy: 0.4082 - val_loss: 1.0554 - val_categorical_accuracy: 0.4240
Epoch 73/200
55/55 [==============================] - 29s 520ms/step - loss: 1.0687 - categorical_accuracy: 0.4087 - val_loss: 1.0544 - val_categorical_accuracy: 0.4240
Epoch 74/200
55/55 [==============================] - 29s 520ms/step - loss: 1.0677 - categorical_accuracy: 0.4087 - val_loss: 1.0535 - val_categorical_accuracy: 0.4243
Epoch 75/200
55/55 [==============================] - 28s 503ms/step - loss: 1.0668 - categorical_accuracy: 0.4094 - val_loss: 1.0527 - val_categorical_accuracy: 0.4243
Epoch 76/200
55/55 [==============================] - 28s 503ms/step - loss: 1.0659 - categorical_accuracy: 0.4094 - val_loss: 1.0518 - val_categorical_accuracy: 0.4247
Epoch 77/200
55/55 [==============================] - 28s 505ms/step - loss: 1.0650 - categorical_accuracy: 0.4099 - val_loss: 1.0510 - val_categorical_accuracy: 0.4247
Epoch 78/200
55/55 [==============================] - 28s 501ms/step - loss: 1.0642 - categorical_accuracy: 0.4108 - val_loss: 1.0502 - val_categorical_accuracy: 0.4257
Epoch 79/200
55/55 [==============================] - 28s 505ms/step - loss: 1.0634 - categorical_accuracy: 0.4116 - val_loss: 1.0495 - val_categorical_accuracy: 0.4273
Epoch 80/200
55/55 [==============================] - 28s 503ms/step - loss: 1.0626 - categorical_accuracy: 0.4116 - val_loss: 1.0487 - val_categorical_accuracy: 0.4270
Epoch 81/200
55/55 [==============================] - 27s 497ms/step - loss: 1.0619 - categorical_accuracy: 0.4117 - val_loss: 1.0480 - val_categorical_accuracy: 0.4267
Epoch 82/200
55/55 [==============================] - 28s 501ms/step - loss: 1.0612 - categorical_accuracy: 0.4118 - val_loss: 1.0473 - val_categorical_accuracy: 0.4280
Epoch 83/200
55/55 [==============================] - 28s 518ms/step - loss: 1.0605 - categorical_accuracy: 0.4122 - val_loss: 1.0467 - val_categorical_accuracy: 0.4283
Epoch 84/200
55/55 [==============================] - 27s 498ms/step - loss: 1.0599 - categorical_accuracy: 0.4131 - val_loss: 1.0461 - val_categorical_accuracy: 0.4280
Epoch 85/200
55/55 [==============================] - 27s 496ms/step - loss: 1.0593 - categorical_accuracy: 0.4135 - val_loss: 1.0455 - val_categorical_accuracy: 0.4280
Epoch 86/200
55/55 [==============================] - 28s 501ms/step - loss: 1.0587 - categorical_accuracy: 0.4141 - val_loss: 1.0449 - val_categorical_accuracy: 0.4283
Epoch 87/200
55/55 [==============================] - 27s 499ms/step - loss: 1.0581 - categorical_accuracy: 0.4144 - val_loss: 1.0443 - val_categorical_accuracy: 0.4283
Epoch 88/200
55/55 [==============================] - 28s 500ms/step - loss: 1.0576 - categorical_accuracy: 0.4152 - val_loss: 1.0438 - val_categorical_accuracy: 0.4287
Epoch 89/200
55/55 [==============================] - 28s 500ms/step - loss: 1.0571 - categorical_accuracy: 0.4162 - val_loss: 1.0433 - val_categorical_accuracy: 0.4280
Epoch 90/200
55/55 [==============================] - 28s 503ms/step - loss: 1.0567 - categorical_accuracy: 0.4167 - val_loss: 1.0428 - val_categorical_accuracy: 0.4277
Epoch 91/200
55/55 [==============================] - 27s 499ms/step - loss: 1.0562 - categorical_accuracy: 0.4170 - val_loss: 1.0424 - val_categorical_accuracy: 0.4273
Epoch 92/200
55/55 [==============================] - 27s 496ms/step - loss: 1.0558 - categorical_accuracy: 0.4171 - val_loss: 1.0419 - val_categorical_accuracy: 0.4273
Epoch 93/200
55/55 [==============================] - 27s 494ms/step - loss: 1.0554 - categorical_accuracy: 0.4172 - val_loss: 1.0415 - val_categorical_accuracy: 0.4280
Epoch 94/200
55/55 [==============================] - 28s 514ms/step - loss: 1.0551 - categorical_accuracy: 0.4178 - val_loss: 1.0411 - val_categorical_accuracy: 0.4297
Epoch 95/200
55/55 [==============================] - 27s 492ms/step - loss: 1.0548 - categorical_accuracy: 0.4181 - val_loss: 1.0408 - val_categorical_accuracy: 0.4307
Epoch 96/200
55/55 [==============================] - 27s 494ms/step - loss: 1.0545 - categorical_accuracy: 0.4178 - val_loss: 1.0404 - val_categorical_accuracy: 0.4313
Epoch 97/200
55/55 [==============================] - 27s 500ms/step - loss: 1.0542 - categorical_accuracy: 0.4176 - val_loss: 1.0401 - val_categorical_accuracy: 0.4310
Epoch 98/200
55/55 [==============================] - 27s 492ms/step - loss: 1.0540 - categorical_accuracy: 0.4178 - val_loss: 1.0398 - val_categorical_accuracy: 0.4307
Epoch 99/200
55/55 [==============================] - 27s 488ms/step - loss: 1.0538 - categorical_accuracy: 0.4180 - val_loss: 1.0395 - val_categorical_accuracy: 0.4310
Epoch 100/200
55/55 [==============================] - 27s 493ms/step - loss: 1.0536 - categorical_accuracy: 0.4178 - val_loss: 1.0393 - val_categorical_accuracy: 0.4307
Epoch 101/200
55/55 [==============================] - 27s 491ms/step - loss: 1.0534 - categorical_accuracy: 0.4181 - val_loss: 1.0391 - val_categorical_accuracy: 0.4310
Epoch 102/200
55/55 [==============================] - 27s 490ms/step - loss: 1.0533 - categorical_accuracy: 0.4183 - val_loss: 1.0389 - val_categorical_accuracy: 0.4317
Epoch 103/200
55/55 [==============================] - 27s 490ms/step - loss: 1.0532 - categorical_accuracy: 0.4184 - val_loss: 1.0387 - val_categorical_accuracy: 0.4310
Epoch 104/200
55/55 [==============================] - 27s 483ms/step - loss: 1.0531 - categorical_accuracy: 0.4184 - val_loss: 1.0385 - val_categorical_accuracy: 0.4313
Epoch 105/200
55/55 [==============================] - 27s 495ms/step - loss: 1.0531 - categorical_accuracy: 0.4186 - val_loss: 1.0384 - val_categorical_accuracy: 0.4313
Epoch 106/200
55/55 [==============================] - 27s 487ms/step - loss: 1.0531 - categorical_accuracy: 0.4188 - val_loss: 1.0383 - val_categorical_accuracy: 0.4307
Epoch 107/200
55/55 [==============================] - 27s 482ms/step - loss: 1.0531 - categorical_accuracy: 0.4191 - val_loss: 1.0382 - val_categorical_accuracy: 0.4310
Epoch 108/200
55/55 [==============================] - 27s 482ms/step - loss: 1.0531 - categorical_accuracy: 0.4196 - val_loss: 1.0381 - val_categorical_accuracy: 0.4317
Epoch 109/200
55/55 [==============================] - 27s 486ms/step - loss: 1.0532 - categorical_accuracy: 0.4196 - val_loss: 1.0380 - val_categorical_accuracy: 0.4323
Epoch 110/200
55/55 [==============================] - 26s 479ms/step - loss: 1.0533 - categorical_accuracy: 0.4199 - val_loss: 1.0380 - val_categorical_accuracy: 0.4323
Epoch 111/200
55/55 [==============================] - 26s 478ms/step - loss: 1.0534 - categorical_accuracy: 0.4201 - val_loss: 1.0380 - val_categorical_accuracy: 0.4327
Epoch 112/200
55/55 [==============================] - 27s 489ms/step - loss: 1.0536 - categorical_accuracy: 0.4197 - val_loss: 1.0380 - val_categorical_accuracy: 0.4320
Epoch 113/200
55/55 [==============================] - 26s 479ms/step - loss: 1.0538 - categorical_accuracy: 0.4196 - val_loss: 1.0381 - val_categorical_accuracy: 0.4327
Epoch 114/200
55/55 [==============================] - 26s 478ms/step - loss: 1.0540 - categorical_accuracy: 0.4202 - val_loss: 1.0382 - val_categorical_accuracy: 0.4323
Epoch 115/200
55/55 [==============================] - 27s 483ms/step - loss: 1.0543 - categorical_accuracy: 0.4198 - val_loss: 1.0383 - val_categorical_accuracy: 0.4320
Epoch 116/200
55/55 [==============================] - 27s 486ms/step - loss: 1.0545 - categorical_accuracy: 0.4201 - val_loss: 1.0384 - val_categorical_accuracy: 0.4330
Epoch 117/200
55/55 [==============================] - 27s 486ms/step - loss: 1.0548 - categorical_accuracy: 0.4204 - val_loss: 1.0385 - val_categorical_accuracy: 0.4327
Epoch 118/200
55/55 [==============================] - 26s 479ms/step - loss: 1.0552 - categorical_accuracy: 0.4203 - val_loss: 1.0387 - val_categorical_accuracy: 0.4330
Epoch 119/200
55/55 [==============================] - 26s 474ms/step - loss: 1.0556 - categorical_accuracy: 0.4201 - val_loss: 1.0389 - val_categorical_accuracy: 0.4337
Epoch 120/200
55/55 [==============================] - 26s 477ms/step - loss: 1.0560 - categorical_accuracy: 0.4200 - val_loss: 1.0391 - val_categorical_accuracy: 0.4340
Epoch 121/200
55/55 [==============================] - 27s 483ms/step - loss: 1.0564 - categorical_accuracy: 0.4200 - val_loss: 1.0393 - val_categorical_accuracy: 0.4333
Epoch 122/200
55/55 [==============================] - 26s 477ms/step - loss: 1.0569 - categorical_accuracy: 0.4199 - val_loss: 1.0396 - val_categorical_accuracy: 0.4337
Epoch 123/200
55/55 [==============================] - 26s 480ms/step - loss: 1.0574 - categorical_accuracy: 0.4199 - val_loss: 1.0398 - val_categorical_accuracy: 0.4340
Epoch 124/200
55/55 [==============================] - 27s 489ms/step - loss: 1.0579 - categorical_accuracy: 0.4194 - val_loss: 1.0401 - val_categorical_accuracy: 0.4333
Epoch 125/200
55/55 [==============================] - 26s 479ms/step - loss: 1.0585 - categorical_accuracy: 0.4196 - val_loss: 1.0405 - val_categorical_accuracy: 0.4333
Epoch 126/200
55/55 [==============================] - 26s 478ms/step - loss: 1.0591 - categorical_accuracy: 0.4195 - val_loss: 1.0408 - val_categorical_accuracy: 0.4330
Epoch 127/200
55/55 [==============================] - 27s 486ms/step - loss: 1.0597 - categorical_accuracy: 0.4201 - val_loss: 1.0412 - val_categorical_accuracy: 0.4340
Epoch 128/200
55/55 [==============================] - 27s 491ms/step - loss: 1.0604 - categorical_accuracy: 0.4201 - val_loss: 1.0416 - val_categorical_accuracy: 0.4337
Epoch 129/200
55/55 [==============================] - 26s 479ms/step - loss: 1.0611 - categorical_accuracy: 0.4202 - val_loss: 1.0421 - val_categorical_accuracy: 0.4337
Epoch 130/200
55/55 [==============================] - 27s 484ms/step - loss: 1.0618 - categorical_accuracy: 0.4203 - val_loss: 1.0425 - val_categorical_accuracy: 0.4347
Epoch 131/200
55/55 [==============================] - 26s 477ms/step - loss: 1.0626 - categorical_accuracy: 0.4204 - val_loss: 1.0430 - val_categorical_accuracy: 0.4343
Epoch 132/200
55/55 [==============================] - 26s 478ms/step - loss: 1.0634 - categorical_accuracy: 0.4200 - val_loss: 1.0435 - val_categorical_accuracy: 0.4347
Epoch 133/200
55/55 [==============================] - 27s 483ms/step - loss: 1.0643 - categorical_accuracy: 0.4193 - val_loss: 1.0441 - val_categorical_accuracy: 0.4350
Epoch 134/200
55/55 [==============================] - 26s 476ms/step - loss: 1.0652 - categorical_accuracy: 0.4191 - val_loss: 1.0447 - val_categorical_accuracy: 0.4353
Epoch 135/200
55/55 [==============================] - 27s 485ms/step - loss: 1.0661 - categorical_accuracy: 0.4191 - val_loss: 1.0453 - val_categorical_accuracy: 0.4337
Epoch 136/200
55/55 [==============================] - 26s 479ms/step - loss: 1.0671 - categorical_accuracy: 0.4187 - val_loss: 1.0459 - val_categorical_accuracy: 0.4333
Epoch 137/200
55/55 [==============================] - 26s 467ms/step - loss: 1.0681 - categorical_accuracy: 0.4182 - val_loss: 1.0466 - val_categorical_accuracy: 0.4333
Epoch 138/200
55/55 [==============================] - 26s 468ms/step - loss: 1.0691 - categorical_accuracy: 0.4184 - val_loss: 1.0473 - val_categorical_accuracy: 0.4347
Epoch 139/200
55/55 [==============================] - 26s 475ms/step - loss: 1.0702 - categorical_accuracy: 0.4180 - val_loss: 1.0480 - val_categorical_accuracy: 0.4340
Epoch 140/200
55/55 [==============================] - 27s 489ms/step - loss: 1.0714 - categorical_accuracy: 0.4178 - val_loss: 1.0488 - val_categorical_accuracy: 0.4340
Epoch 141/200
55/55 [==============================] - 26s 475ms/step - loss: 1.0726 - categorical_accuracy: 0.4178 - val_loss: 1.0496 - val_categorical_accuracy: 0.4327
Epoch 142/200
55/55 [==============================] - 26s 478ms/step - loss: 1.0738 - categorical_accuracy: 0.4172 - val_loss: 1.0504 - val_categorical_accuracy: 0.4327
Epoch 143/200
55/55 [==============================] - 26s 475ms/step - loss: 1.0751 - categorical_accuracy: 0.4166 - val_loss: 1.0513 - val_categorical_accuracy: 0.4327
Epoch 144/200
55/55 [==============================] - 26s 475ms/step - loss: 1.0764 - categorical_accuracy: 0.4165 - val_loss: 1.0522 - val_categorical_accuracy: 0.4330
Epoch 145/200
55/55 [==============================] - 26s 478ms/step - loss: 1.0778 - categorical_accuracy: 0.4163 - val_loss: 1.0531 - val_categorical_accuracy: 0.4327
Epoch 146/200
55/55 [==============================] - 26s 481ms/step - loss: 1.0792 - categorical_accuracy: 0.4160 - val_loss: 1.0541 - val_categorical_accuracy: 0.4330
Epoch 147/200
55/55 [==============================] - 26s 476ms/step - loss: 1.0807 - categorical_accuracy: 0.4156 - val_loss: 1.0551 - val_categorical_accuracy: 0.4337
Epoch 148/200
55/55 [==============================] - 26s 478ms/step - loss: 1.0822 - categorical_accuracy: 0.4151 - val_loss: 1.0561 - val_categorical_accuracy: 0.4330
Epoch 149/200
55/55 [==============================] - 26s 475ms/step - loss: 1.0838 - categorical_accuracy: 0.4147 - val_loss: 1.0572 - val_categorical_accuracy: 0.4327
Epoch 150/200
55/55 [==============================] - 26s 472ms/step - loss: 1.0854 - categorical_accuracy: 0.4141 - val_loss: 1.0583 - val_categorical_accuracy: 0.4323
Epoch 151/200
55/55 [==============================] - 27s 490ms/step - loss: 1.0871 - categorical_accuracy: 0.4135 - val_loss: 1.0595 - val_categorical_accuracy: 0.4327
Epoch 152/200
55/55 [==============================] - 26s 478ms/step - loss: 1.0888 - categorical_accuracy: 0.4137 - val_loss: 1.0607 - val_categorical_accuracy: 0.4317
Epoch 153/200
55/55 [==============================] - 26s 478ms/step - loss: 1.0906 - categorical_accuracy: 0.4132 - val_loss: 1.0620 - val_categorical_accuracy: 0.4320
Epoch 154/200
55/55 [==============================] - 27s 483ms/step - loss: 1.0925 - categorical_accuracy: 0.4126 - val_loss: 1.0633 - val_categorical_accuracy: 0.4327
Epoch 155/200
55/55 [==============================] - 26s 469ms/step - loss: 1.0944 - categorical_accuracy: 0.4126 - val_loss: 1.0647 - val_categorical_accuracy: 0.4337
Epoch 156/200
55/55 [==============================] - 26s 468ms/step - loss: 1.0964 - categorical_accuracy: 0.4119 - val_loss: 1.0661 - val_categorical_accuracy: 0.4320
Epoch 157/200
55/55 [==============================] - 26s 476ms/step - loss: 1.0984 - categorical_accuracy: 0.4110 - val_loss: 1.0675 - val_categorical_accuracy: 0.4317
Epoch 158/200
55/55 [==============================] - 26s 478ms/step - loss: 1.1006 - categorical_accuracy: 0.4102 - val_loss: 1.0691 - val_categorical_accuracy: 0.4313
Epoch 159/200
55/55 [==============================] - 26s 468ms/step - loss: 1.1027 - categorical_accuracy: 0.4098 - val_loss: 1.0706 - val_categorical_accuracy: 0.4317
Epoch 160/200
55/55 [==============================] - 26s 477ms/step - loss: 1.1050 - categorical_accuracy: 0.4096 - val_loss: 1.0722 - val_categorical_accuracy: 0.4307
Epoch 161/200
55/55 [==============================] - 26s 478ms/step - loss: 1.1073 - categorical_accuracy: 0.4094 - val_loss: 1.0739 - val_categorical_accuracy: 0.4307
Epoch 162/200
55/55 [==============================] - 26s 474ms/step - loss: 1.1097 - categorical_accuracy: 0.4089 - val_loss: 1.0756 - val_categorical_accuracy: 0.4313
Epoch 163/200
55/55 [==============================] - 27s 488ms/step - loss: 1.1122 - categorical_accuracy: 0.4082 - val_loss: 1.0774 - val_categorical_accuracy: 0.4307
Epoch 164/200
55/55 [==============================] - 26s 476ms/step - loss: 1.1148 - categorical_accuracy: 0.4082 - val_loss: 1.0793 - val_categorical_accuracy: 0.4303
Epoch 165/200
55/55 [==============================] - 27s 493ms/step - loss: 1.1174 - categorical_accuracy: 0.4075 - val_loss: 1.0812 - val_categorical_accuracy: 0.4297
Epoch 166/200
55/55 [==============================] - 28s 502ms/step - loss: 1.1201 - categorical_accuracy: 0.4067 - val_loss: 1.0832 - val_categorical_accuracy: 0.4300
Epoch 167/200
55/55 [==============================] - 27s 488ms/step - loss: 1.1229 - categorical_accuracy: 0.4063 - val_loss: 1.0852 - val_categorical_accuracy: 0.4287
Epoch 168/200
55/55 [==============================] - 27s 483ms/step - loss: 1.1258 - categorical_accuracy: 0.4054 - val_loss: 1.0873 - val_categorical_accuracy: 0.4277
Epoch 169/200
55/55 [==============================] - 27s 489ms/step - loss: 1.1288 - categorical_accuracy: 0.4050 - val_loss: 1.0895 - val_categorical_accuracy: 0.4277
Epoch 170/200
55/55 [==============================] - 26s 480ms/step - loss: 1.1319 - categorical_accuracy: 0.4042 - val_loss: 1.0918 - val_categorical_accuracy: 0.4287
Epoch 171/200
55/55 [==============================] - 26s 480ms/step - loss: 1.1351 - categorical_accuracy: 0.4035 - val_loss: 1.0941 - val_categorical_accuracy: 0.4280
Epoch 172/200
55/55 [==============================] - 27s 482ms/step - loss: 1.1384 - categorical_accuracy: 0.4029 - val_loss: 1.0966 - val_categorical_accuracy: 0.4263
Epoch 173/200
55/55 [==============================] - 26s 479ms/step - loss: 1.1418 - categorical_accuracy: 0.4020 - val_loss: 1.0991 - val_categorical_accuracy: 0.4250
Epoch 174/200
55/55 [==============================] - 27s 487ms/step - loss: 1.1453 - categorical_accuracy: 0.4011 - val_loss: 1.1017 - val_categorical_accuracy: 0.4247
Epoch 175/200
55/55 [==============================] - 27s 488ms/step - loss: 1.1489 - categorical_accuracy: 0.4005 - val_loss: 1.1044 - val_categorical_accuracy: 0.4230
Epoch 176/200
55/55 [==============================] - 26s 478ms/step - loss: 1.1526 - categorical_accuracy: 0.3991 - val_loss: 1.1072 - val_categorical_accuracy: 0.4217
Epoch 177/200
55/55 [==============================] - 26s 479ms/step - loss: 1.1564 - categorical_accuracy: 0.3985 - val_loss: 1.1101 - val_categorical_accuracy: 0.4213
Epoch 178/200
55/55 [==============================] - 27s 482ms/step - loss: 1.1604 - categorical_accuracy: 0.3976 - val_loss: 1.1131 - val_categorical_accuracy: 0.4207
Epoch 179/200
55/55 [==============================] - 27s 482ms/step - loss: 1.1645 - categorical_accuracy: 0.3971 - val_loss: 1.1162 - val_categorical_accuracy: 0.4200
Epoch 180/200
55/55 [==============================] - 26s 481ms/step - loss: 1.1687 - categorical_accuracy: 0.3963 - val_loss: 1.1194 - val_categorical_accuracy: 0.4200
Epoch 181/200
55/55 [==============================] - 27s 482ms/step - loss: 1.1730 - categorical_accuracy: 0.3953 - val_loss: 1.1228 - val_categorical_accuracy: 0.4187
Epoch 182/200
55/55 [==============================] - 26s 479ms/step - loss: 1.1775 - categorical_accuracy: 0.3941 - val_loss: 1.1262 - val_categorical_accuracy: 0.4187
Epoch 183/200
55/55 [==============================] - 26s 481ms/step - loss: 1.1822 - categorical_accuracy: 0.3932 - val_loss: 1.1298 - val_categorical_accuracy: 0.4170
Epoch 184/200
55/55 [==============================] - 27s 483ms/step - loss: 1.1870 - categorical_accuracy: 0.3928 - val_loss: 1.1336 - val_categorical_accuracy: 0.4150
Epoch 185/200
55/55 [==============================] - 26s 476ms/step - loss: 1.1919 - categorical_accuracy: 0.3915 - val_loss: 1.1375 - val_categorical_accuracy: 0.4130
Epoch 186/200
55/55 [==============================] - 27s 493ms/step - loss: 1.1970 - categorical_accuracy: 0.3908 - val_loss: 1.1415 - val_categorical_accuracy: 0.4113
Epoch 187/200
55/55 [==============================] - 27s 486ms/step - loss: 1.2023 - categorical_accuracy: 0.3891 - val_loss: 1.1457 - val_categorical_accuracy: 0.4110
Epoch 188/200
55/55 [==============================] - 26s 480ms/step - loss: 1.2077 - categorical_accuracy: 0.3883 - val_loss: 1.1500 - val_categorical_accuracy: 0.4097
Epoch 189/200
55/55 [==============================] - 26s 480ms/step - loss: 1.2134 - categorical_accuracy: 0.3873 - val_loss: 1.1545 - val_categorical_accuracy: 0.4080
Epoch 190/200
55/55 [==============================] - 27s 487ms/step - loss: 1.2192 - categorical_accuracy: 0.3867 - val_loss: 1.1592 - val_categorical_accuracy: 0.4073
Epoch 191/200
55/55 [==============================] - 27s 482ms/step - loss: 1.2252 - categorical_accuracy: 0.3853 - val_loss: 1.1641 - val_categorical_accuracy: 0.4053
Epoch 192/200
55/55 [==============================] - 27s 486ms/step - loss: 1.2314 - categorical_accuracy: 0.3843 - val_loss: 1.1691 - val_categorical_accuracy: 0.4027
Epoch 193/200
55/55 [==============================] - 26s 482ms/step - loss: 1.2378 - categorical_accuracy: 0.3829 - val_loss: 1.1744 - val_categorical_accuracy: 0.4007
Epoch 194/200
55/55 [==============================] - 26s 479ms/step - loss: 1.2445 - categorical_accuracy: 0.3814 - val_loss: 1.1799 - val_categorical_accuracy: 0.4000
Epoch 195/200
55/55 [==============================] - 26s 472ms/step - loss: 1.2513 - categorical_accuracy: 0.3801 - val_loss: 1.1856 - val_categorical_accuracy: 0.4000
Epoch 196/200
55/55 [==============================] - 26s 474ms/step - loss: 1.2584 - categorical_accuracy: 0.3792 - val_loss: 1.1915 - val_categorical_accuracy: 0.3993
Epoch 197/200
55/55 [==============================] - 27s 484ms/step - loss: 1.2657 - categorical_accuracy: 0.3780 - val_loss: 1.1977 - val_categorical_accuracy: 0.3983
Epoch 198/200
55/55 [==============================] - 26s 476ms/step - loss: 1.2733 - categorical_accuracy: 0.3769 - val_loss: 1.2041 - val_categorical_accuracy: 0.3960
Epoch 199/200
55/55 [==============================] - 26s 475ms/step - loss: 1.2811 - categorical_accuracy: 0.3757 - val_loss: 1.2108 - val_categorical_accuracy: 0.3947
Epoch 200/200
55/55 [==============================] - 26s 465ms/step - loss: 1.2892 - categorical_accuracy: 0.3749 - val_loss: 1.2178 - val_categorical_accuracy: 0.3907
